{
 "cells": [
  {
   "cell_type": "code",
   "execution_count": 1,
   "metadata": {},
   "outputs": [],
   "source": [
    "import pandas as pd\n",
    "import numpy as np\n",
    "from sklearn.preprocessing import LabelEncoder\n",
    "from sklearn.model_selection import train_test_split\n",
    "from sklearn.linear_model import LogisticRegression"
   ]
  },
  {
   "cell_type": "code",
   "execution_count": 2,
   "metadata": {},
   "outputs": [
    {
     "data": {
      "text/html": [
       "<div>\n",
       "<style scoped>\n",
       "    .dataframe tbody tr th:only-of-type {\n",
       "        vertical-align: middle;\n",
       "    }\n",
       "\n",
       "    .dataframe tbody tr th {\n",
       "        vertical-align: top;\n",
       "    }\n",
       "\n",
       "    .dataframe thead th {\n",
       "        text-align: right;\n",
       "    }\n",
       "</style>\n",
       "<table border=\"1\" class=\"dataframe\">\n",
       "  <thead>\n",
       "    <tr style=\"text-align: right;\">\n",
       "      <th></th>\n",
       "      <th>route_id</th>\n",
       "      <th>service_id</th>\n",
       "      <th>trip_id</th>\n",
       "      <th>shape_id</th>\n",
       "    </tr>\n",
       "  </thead>\n",
       "  <tbody>\n",
       "    <tr>\n",
       "      <th>0</th>\n",
       "      <td>0</td>\n",
       "      <td>1</td>\n",
       "      <td>0_6_0</td>\n",
       "      <td>0.0</td>\n",
       "    </tr>\n",
       "    <tr>\n",
       "      <th>1</th>\n",
       "      <td>0</td>\n",
       "      <td>1</td>\n",
       "      <td>0_6_10</td>\n",
       "      <td>0.0</td>\n",
       "    </tr>\n",
       "    <tr>\n",
       "      <th>2</th>\n",
       "      <td>0</td>\n",
       "      <td>1</td>\n",
       "      <td>0_6_20</td>\n",
       "      <td>0.0</td>\n",
       "    </tr>\n",
       "    <tr>\n",
       "      <th>3</th>\n",
       "      <td>0</td>\n",
       "      <td>1</td>\n",
       "      <td>0_6_30</td>\n",
       "      <td>0.0</td>\n",
       "    </tr>\n",
       "    <tr>\n",
       "      <th>4</th>\n",
       "      <td>0</td>\n",
       "      <td>1</td>\n",
       "      <td>0_6_40</td>\n",
       "      <td>0.0</td>\n",
       "    </tr>\n",
       "  </tbody>\n",
       "</table>\n",
       "</div>"
      ],
      "text/plain": [
       "   route_id  service_id trip_id  shape_id\n",
       "0         0           1   0_6_0       0.0\n",
       "1         0           1  0_6_10       0.0\n",
       "2         0           1  0_6_20       0.0\n",
       "3         0           1  0_6_30       0.0\n",
       "4         0           1  0_6_40       0.0"
      ]
     },
     "execution_count": 2,
     "metadata": {},
     "output_type": "execute_result"
    }
   ],
   "source": [
    "routes = pd.read_csv('routes.txt')\n",
    "shapes = pd.read_csv('shapes.txt')\n",
    "stop_times = pd.read_csv('stop_times.txt')\n",
    "stops = pd.read_csv('stops.txt')\n",
    "trips = pd.read_csv('trips.txt')\n",
    "trips.head()"
   ]
  },
  {
   "cell_type": "code",
   "execution_count": 3,
   "metadata": {},
   "outputs": [
    {
     "data": {
      "text/plain": [
       "((1545, 5), (242244, 4), (2927174, 5), (4161, 4), (75757, 4))"
      ]
     },
     "execution_count": 3,
     "metadata": {},
     "output_type": "execute_result"
    }
   ],
   "source": [
    "routes.shape, shapes.shape, stop_times.shape, stops.shape, trips.shape"
   ]
  },
  {
   "cell_type": "code",
   "execution_count": 4,
   "metadata": {},
   "outputs": [],
   "source": [
    "trips.drop('service_id', axis=1, inplace=True, errors='ignore')\n",
    "trips.drop('shape_id', axis=1, inplace=True, errors='ignore')\n",
    "routes.drop('route_short_name', axis=1, inplace=True, errors='ignore')"
   ]
  },
  {
   "cell_type": "code",
   "execution_count": 5,
   "metadata": {},
   "outputs": [
    {
     "data": {
      "text/html": [
       "<div>\n",
       "<style scoped>\n",
       "    .dataframe tbody tr th:only-of-type {\n",
       "        vertical-align: middle;\n",
       "    }\n",
       "\n",
       "    .dataframe tbody tr th {\n",
       "        vertical-align: top;\n",
       "    }\n",
       "\n",
       "    .dataframe thead th {\n",
       "        text-align: right;\n",
       "    }\n",
       "</style>\n",
       "<table border=\"1\" class=\"dataframe\">\n",
       "  <thead>\n",
       "    <tr style=\"text-align: right;\">\n",
       "      <th></th>\n",
       "      <th>route_long_name</th>\n",
       "      <th>route_type</th>\n",
       "      <th>route_id</th>\n",
       "      <th>agency_id</th>\n",
       "    </tr>\n",
       "  </thead>\n",
       "  <tbody>\n",
       "    <tr>\n",
       "      <th>1211</th>\n",
       "      <td>124UP_DTC</td>\n",
       "      <td>3</td>\n",
       "      <td>1212</td>\n",
       "      <td>DTC</td>\n",
       "    </tr>\n",
       "  </tbody>\n",
       "</table>\n",
       "</div>"
      ],
      "text/plain": [
       "     route_long_name  route_type  route_id agency_id\n",
       "1211       124UP_DTC           3      1212       DTC"
      ]
     },
     "execution_count": 5,
     "metadata": {},
     "output_type": "execute_result"
    }
   ],
   "source": [
    "routes[routes.route_id == 1212]"
   ]
  },
  {
   "cell_type": "code",
   "execution_count": 6,
   "metadata": {},
   "outputs": [
    {
     "data": {
      "text/html": [
       "<div>\n",
       "<style scoped>\n",
       "    .dataframe tbody tr th:only-of-type {\n",
       "        vertical-align: middle;\n",
       "    }\n",
       "\n",
       "    .dataframe tbody tr th {\n",
       "        vertical-align: top;\n",
       "    }\n",
       "\n",
       "    .dataframe thead th {\n",
       "        text-align: right;\n",
       "    }\n",
       "</style>\n",
       "<table border=\"1\" class=\"dataframe\">\n",
       "  <thead>\n",
       "    <tr style=\"text-align: right;\">\n",
       "      <th></th>\n",
       "      <th>route_id</th>\n",
       "      <th>trip_id</th>\n",
       "    </tr>\n",
       "  </thead>\n",
       "  <tbody>\n",
       "    <tr>\n",
       "      <th>0</th>\n",
       "      <td>0</td>\n",
       "      <td>0_6_0</td>\n",
       "    </tr>\n",
       "  </tbody>\n",
       "</table>\n",
       "</div>"
      ],
      "text/plain": [
       "   route_id trip_id\n",
       "0         0   0_6_0"
      ]
     },
     "execution_count": 6,
     "metadata": {},
     "output_type": "execute_result"
    }
   ],
   "source": [
    "trips[trips.trip_id == '0_6_0']"
   ]
  },
  {
   "cell_type": "code",
   "execution_count": 14,
   "metadata": {},
   "outputs": [
    {
     "data": {
      "text/html": [
       "<div>\n",
       "<style scoped>\n",
       "    .dataframe tbody tr th:only-of-type {\n",
       "        vertical-align: middle;\n",
       "    }\n",
       "\n",
       "    .dataframe tbody tr th {\n",
       "        vertical-align: top;\n",
       "    }\n",
       "\n",
       "    .dataframe thead th {\n",
       "        text-align: right;\n",
       "    }\n",
       "</style>\n",
       "<table border=\"1\" class=\"dataframe\">\n",
       "  <thead>\n",
       "    <tr style=\"text-align: right;\">\n",
       "      <th></th>\n",
       "      <th>trip_id</th>\n",
       "      <th>route_long_name</th>\n",
       "      <th>route_type</th>\n",
       "      <th>agency_id</th>\n",
       "    </tr>\n",
       "    <tr>\n",
       "      <th>route_id</th>\n",
       "      <th></th>\n",
       "      <th></th>\n",
       "      <th></th>\n",
       "      <th></th>\n",
       "    </tr>\n",
       "  </thead>\n",
       "  <tbody>\n",
       "    <tr>\n",
       "      <th>0</th>\n",
       "      <td>0_6_0</td>\n",
       "      <td>108DOWN</td>\n",
       "      <td>3</td>\n",
       "      <td>DIMTS</td>\n",
       "    </tr>\n",
       "    <tr>\n",
       "      <th>0</th>\n",
       "      <td>0_6_10</td>\n",
       "      <td>108DOWN</td>\n",
       "      <td>3</td>\n",
       "      <td>DIMTS</td>\n",
       "    </tr>\n",
       "    <tr>\n",
       "      <th>0</th>\n",
       "      <td>0_6_20</td>\n",
       "      <td>108DOWN</td>\n",
       "      <td>3</td>\n",
       "      <td>DIMTS</td>\n",
       "    </tr>\n",
       "    <tr>\n",
       "      <th>0</th>\n",
       "      <td>0_6_30</td>\n",
       "      <td>108DOWN</td>\n",
       "      <td>3</td>\n",
       "      <td>DIMTS</td>\n",
       "    </tr>\n",
       "    <tr>\n",
       "      <th>0</th>\n",
       "      <td>0_6_40</td>\n",
       "      <td>108DOWN</td>\n",
       "      <td>3</td>\n",
       "      <td>DIMTS</td>\n",
       "    </tr>\n",
       "  </tbody>\n",
       "</table>\n",
       "</div>"
      ],
      "text/plain": [
       "         trip_id route_long_name  route_type agency_id\n",
       "route_id                                              \n",
       "0          0_6_0         108DOWN           3     DIMTS\n",
       "0         0_6_10         108DOWN           3     DIMTS\n",
       "0         0_6_20         108DOWN           3     DIMTS\n",
       "0         0_6_30         108DOWN           3     DIMTS\n",
       "0         0_6_40         108DOWN           3     DIMTS"
      ]
     },
     "execution_count": 14,
     "metadata": {},
     "output_type": "execute_result"
    }
   ],
   "source": [
    "trips_route = trips.set_index('route_id').join(routes.set_index('route_id'), on='route_id', how='left')\n",
    "trips_route.head()"
   ]
  },
  {
   "cell_type": "code",
   "execution_count": 32,
   "metadata": {},
   "outputs": [
    {
     "data": {
      "text/html": [
       "<div>\n",
       "<style scoped>\n",
       "    .dataframe tbody tr th:only-of-type {\n",
       "        vertical-align: middle;\n",
       "    }\n",
       "\n",
       "    .dataframe tbody tr th {\n",
       "        vertical-align: top;\n",
       "    }\n",
       "\n",
       "    .dataframe thead th {\n",
       "        text-align: right;\n",
       "    }\n",
       "</style>\n",
       "<table border=\"1\" class=\"dataframe\">\n",
       "  <thead>\n",
       "    <tr style=\"text-align: right;\">\n",
       "      <th></th>\n",
       "      <th>route_id</th>\n",
       "      <th>route_long_name</th>\n",
       "      <th>route_type</th>\n",
       "      <th>agency_id</th>\n",
       "      <th>arrival_time</th>\n",
       "      <th>departure_time</th>\n",
       "      <th>stop_id</th>\n",
       "      <th>stop_sequence</th>\n",
       "    </tr>\n",
       "    <tr>\n",
       "      <th>trip_id</th>\n",
       "      <th></th>\n",
       "      <th></th>\n",
       "      <th></th>\n",
       "      <th></th>\n",
       "      <th></th>\n",
       "      <th></th>\n",
       "      <th></th>\n",
       "      <th></th>\n",
       "    </tr>\n",
       "  </thead>\n",
       "  <tbody>\n",
       "    <tr>\n",
       "      <th>0_6_0</th>\n",
       "      <td>0</td>\n",
       "      <td>108DOWN</td>\n",
       "      <td>3</td>\n",
       "      <td>DIMTS</td>\n",
       "      <td>06:00:00</td>\n",
       "      <td>06:00:00</td>\n",
       "      <td>2101</td>\n",
       "      <td>0</td>\n",
       "    </tr>\n",
       "    <tr>\n",
       "      <th>0_6_10</th>\n",
       "      <td>0</td>\n",
       "      <td>108DOWN</td>\n",
       "      <td>3</td>\n",
       "      <td>DIMTS</td>\n",
       "      <td>06:10:00</td>\n",
       "      <td>06:10:00</td>\n",
       "      <td>2101</td>\n",
       "      <td>0</td>\n",
       "    </tr>\n",
       "    <tr>\n",
       "      <th>0_6_20</th>\n",
       "      <td>0</td>\n",
       "      <td>108DOWN</td>\n",
       "      <td>3</td>\n",
       "      <td>DIMTS</td>\n",
       "      <td>06:20:00</td>\n",
       "      <td>06:20:00</td>\n",
       "      <td>2101</td>\n",
       "      <td>0</td>\n",
       "    </tr>\n",
       "    <tr>\n",
       "      <th>0_6_30</th>\n",
       "      <td>0</td>\n",
       "      <td>108DOWN</td>\n",
       "      <td>3</td>\n",
       "      <td>DIMTS</td>\n",
       "      <td>06:30:00</td>\n",
       "      <td>06:30:00</td>\n",
       "      <td>2101</td>\n",
       "      <td>0</td>\n",
       "    </tr>\n",
       "    <tr>\n",
       "      <th>0_6_40</th>\n",
       "      <td>0</td>\n",
       "      <td>108DOWN</td>\n",
       "      <td>3</td>\n",
       "      <td>DIMTS</td>\n",
       "      <td>06:40:00</td>\n",
       "      <td>06:40:00</td>\n",
       "      <td>2101</td>\n",
       "      <td>0</td>\n",
       "    </tr>\n",
       "  </tbody>\n",
       "</table>\n",
       "</div>"
      ],
      "text/plain": [
       "         route_id route_long_name  route_type agency_id arrival_time  \\\n",
       "trip_id                                                                \n",
       "0_6_0           0         108DOWN           3     DIMTS     06:00:00   \n",
       "0_6_10          0         108DOWN           3     DIMTS     06:10:00   \n",
       "0_6_20          0         108DOWN           3     DIMTS     06:20:00   \n",
       "0_6_30          0         108DOWN           3     DIMTS     06:30:00   \n",
       "0_6_40          0         108DOWN           3     DIMTS     06:40:00   \n",
       "\n",
       "        departure_time  stop_id  stop_sequence  \n",
       "trip_id                                         \n",
       "0_6_0         06:00:00     2101              0  \n",
       "0_6_10        06:10:00     2101              0  \n",
       "0_6_20        06:20:00     2101              0  \n",
       "0_6_30        06:30:00     2101              0  \n",
       "0_6_40        06:40:00     2101              0  "
      ]
     },
     "execution_count": 32,
     "metadata": {},
     "output_type": "execute_result"
    }
   ],
   "source": [
    "trips_route_stopTimes = trips_route.reset_index().set_index('trip_id').join(stop_times.drop_duplicates(subset=['trip_id'], keep='first').set_index('trip_id'), on='trip_id', how='left')\n",
    "trips_route_stopTimes.head()"
   ]
  },
  {
   "cell_type": "code",
   "execution_count": 33,
   "metadata": {},
   "outputs": [
    {
     "data": {
      "text/html": [
       "<div>\n",
       "<style scoped>\n",
       "    .dataframe tbody tr th:only-of-type {\n",
       "        vertical-align: middle;\n",
       "    }\n",
       "\n",
       "    .dataframe tbody tr th {\n",
       "        vertical-align: top;\n",
       "    }\n",
       "\n",
       "    .dataframe thead th {\n",
       "        text-align: right;\n",
       "    }\n",
       "</style>\n",
       "<table border=\"1\" class=\"dataframe\">\n",
       "  <thead>\n",
       "    <tr style=\"text-align: right;\">\n",
       "      <th></th>\n",
       "      <th>trip_id</th>\n",
       "      <th>route_id</th>\n",
       "      <th>route_long_name</th>\n",
       "      <th>route_type</th>\n",
       "      <th>agency_id</th>\n",
       "      <th>arrival_time</th>\n",
       "      <th>departure_time</th>\n",
       "      <th>stop_sequence</th>\n",
       "      <th>stop_name</th>\n",
       "      <th>stop_lat</th>\n",
       "      <th>stop_lon</th>\n",
       "    </tr>\n",
       "    <tr>\n",
       "      <th>stop_id</th>\n",
       "      <th></th>\n",
       "      <th></th>\n",
       "      <th></th>\n",
       "      <th></th>\n",
       "      <th></th>\n",
       "      <th></th>\n",
       "      <th></th>\n",
       "      <th></th>\n",
       "      <th></th>\n",
       "      <th></th>\n",
       "      <th></th>\n",
       "    </tr>\n",
       "  </thead>\n",
       "  <tbody>\n",
       "    <tr>\n",
       "      <th>2101</th>\n",
       "      <td>0_6_0</td>\n",
       "      <td>0</td>\n",
       "      <td>108DOWN</td>\n",
       "      <td>3</td>\n",
       "      <td>DIMTS</td>\n",
       "      <td>06:00:00</td>\n",
       "      <td>06:00:00</td>\n",
       "      <td>0</td>\n",
       "      <td>Hari Nagar Clock Tower</td>\n",
       "      <td>28.6252</td>\n",
       "      <td>77.1108</td>\n",
       "    </tr>\n",
       "    <tr>\n",
       "      <th>2101</th>\n",
       "      <td>0_6_10</td>\n",
       "      <td>0</td>\n",
       "      <td>108DOWN</td>\n",
       "      <td>3</td>\n",
       "      <td>DIMTS</td>\n",
       "      <td>06:10:00</td>\n",
       "      <td>06:10:00</td>\n",
       "      <td>0</td>\n",
       "      <td>Hari Nagar Clock Tower</td>\n",
       "      <td>28.6252</td>\n",
       "      <td>77.1108</td>\n",
       "    </tr>\n",
       "    <tr>\n",
       "      <th>2101</th>\n",
       "      <td>0_6_20</td>\n",
       "      <td>0</td>\n",
       "      <td>108DOWN</td>\n",
       "      <td>3</td>\n",
       "      <td>DIMTS</td>\n",
       "      <td>06:20:00</td>\n",
       "      <td>06:20:00</td>\n",
       "      <td>0</td>\n",
       "      <td>Hari Nagar Clock Tower</td>\n",
       "      <td>28.6252</td>\n",
       "      <td>77.1108</td>\n",
       "    </tr>\n",
       "    <tr>\n",
       "      <th>2101</th>\n",
       "      <td>0_6_30</td>\n",
       "      <td>0</td>\n",
       "      <td>108DOWN</td>\n",
       "      <td>3</td>\n",
       "      <td>DIMTS</td>\n",
       "      <td>06:30:00</td>\n",
       "      <td>06:30:00</td>\n",
       "      <td>0</td>\n",
       "      <td>Hari Nagar Clock Tower</td>\n",
       "      <td>28.6252</td>\n",
       "      <td>77.1108</td>\n",
       "    </tr>\n",
       "    <tr>\n",
       "      <th>2101</th>\n",
       "      <td>0_6_40</td>\n",
       "      <td>0</td>\n",
       "      <td>108DOWN</td>\n",
       "      <td>3</td>\n",
       "      <td>DIMTS</td>\n",
       "      <td>06:40:00</td>\n",
       "      <td>06:40:00</td>\n",
       "      <td>0</td>\n",
       "      <td>Hari Nagar Clock Tower</td>\n",
       "      <td>28.6252</td>\n",
       "      <td>77.1108</td>\n",
       "    </tr>\n",
       "  </tbody>\n",
       "</table>\n",
       "</div>"
      ],
      "text/plain": [
       "        trip_id  route_id route_long_name  route_type agency_id arrival_time  \\\n",
       "stop_id                                                                        \n",
       "2101      0_6_0         0         108DOWN           3     DIMTS     06:00:00   \n",
       "2101     0_6_10         0         108DOWN           3     DIMTS     06:10:00   \n",
       "2101     0_6_20         0         108DOWN           3     DIMTS     06:20:00   \n",
       "2101     0_6_30         0         108DOWN           3     DIMTS     06:30:00   \n",
       "2101     0_6_40         0         108DOWN           3     DIMTS     06:40:00   \n",
       "\n",
       "        departure_time  stop_sequence               stop_name  stop_lat  \\\n",
       "stop_id                                                                   \n",
       "2101          06:00:00              0  Hari Nagar Clock Tower   28.6252   \n",
       "2101          06:10:00              0  Hari Nagar Clock Tower   28.6252   \n",
       "2101          06:20:00              0  Hari Nagar Clock Tower   28.6252   \n",
       "2101          06:30:00              0  Hari Nagar Clock Tower   28.6252   \n",
       "2101          06:40:00              0  Hari Nagar Clock Tower   28.6252   \n",
       "\n",
       "         stop_lon  \n",
       "stop_id            \n",
       "2101      77.1108  \n",
       "2101      77.1108  \n",
       "2101      77.1108  \n",
       "2101      77.1108  \n",
       "2101      77.1108  "
      ]
     },
     "execution_count": 33,
     "metadata": {},
     "output_type": "execute_result"
    }
   ],
   "source": [
    "trips_route_stopTimes_stops = trips_route_stopTimes.reset_index().set_index('stop_id').join(stops.set_index('stop_id'), on='stop_id', how='left')\n",
    "trips_route_stopTimes_stops.head()"
   ]
  },
  {
   "cell_type": "code",
   "execution_count": 34,
   "metadata": {},
   "outputs": [],
   "source": [
    "df = trips_route_stopTimes_stops\n",
    "date_type = ['arrival_time', 'departure_time']\n",
    "categorical = ['route_long_name', 'route_type', 'agency_id', 'stop_name']"
   ]
  },
  {
   "cell_type": "code",
   "execution_count": 35,
   "metadata": {},
   "outputs": [],
   "source": [
    "# df = pd.get_dummies(df, prefix=categorical, columns=categorical)\n",
    "le = LabelEncoder()\n",
    "for col in categorical:\n",
    "    df[col] = le.fit_transform(df[col])"
   ]
  },
  {
   "cell_type": "code",
   "execution_count": 40,
   "metadata": {},
   "outputs": [
    {
     "data": {
      "text/plain": [
       "(75757, 14)"
      ]
     },
     "execution_count": 40,
     "metadata": {},
     "output_type": "execute_result"
    }
   ],
   "source": [
    "df.arrival_time = pd.to_timedelta(df.arrival_time).astype(int) / 10**9\n",
    "df.departure_time = pd.to_timedelta(df.departure_time).astype(int) / 10**9\n",
    "df = df.reset_index()\n",
    "df.shape"
   ]
  },
  {
   "cell_type": "code",
   "execution_count": 43,
   "metadata": {},
   "outputs": [],
   "source": [
    "X_train, X_test, y_train, y_test = train_test_split(df.drop('route_id', axis=1), df['route_id'], test_size=0.2) "
   ]
  },
  {
   "cell_type": "code",
   "execution_count": 44,
   "metadata": {},
   "outputs": [
    {
     "name": "stderr",
     "output_type": "stream",
     "text": [
      "/Users/macbookpro/anaconda3/envs/py37/lib/python3.7/site-packages/sklearn/linear_model/_logistic.py:764: ConvergenceWarning: lbfgs failed to converge (status=1):\n",
      "STOP: TOTAL NO. of ITERATIONS REACHED LIMIT.\n",
      "\n",
      "Increase the number of iterations (max_iter) or scale the data as shown in:\n",
      "    https://scikit-learn.org/stable/modules/preprocessing.html\n",
      "Please also refer to the documentation for alternative solver options:\n",
      "    https://scikit-learn.org/stable/modules/linear_model.html#logistic-regression\n",
      "  extra_warning_msg=_LOGISTIC_SOLVER_CONVERGENCE_MSG)\n"
     ]
    },
    {
     "data": {
      "text/plain": [
       "LogisticRegression()"
      ]
     },
     "execution_count": 44,
     "metadata": {},
     "output_type": "execute_result"
    }
   ],
   "source": [
    "lr = LogisticRegression()\n",
    "lr.fit(X_train, y_train)"
   ]
  },
  {
   "cell_type": "code",
   "execution_count": 45,
   "metadata": {},
   "outputs": [
    {
     "data": {
      "text/plain": [
       "0.001187961985216473"
      ]
     },
     "execution_count": 45,
     "metadata": {},
     "output_type": "execute_result"
    }
   ],
   "source": [
    "lr.score(X_test, y_test)"
   ]
  },
  {
   "cell_type": "code",
   "execution_count": null,
   "metadata": {},
   "outputs": [],
   "source": []
  }
 ],
 "metadata": {
  "kernelspec": {
   "display_name": "Python 3",
   "language": "python",
   "name": "python3"
  },
  "language_info": {
   "codemirror_mode": {
    "name": "ipython",
    "version": 3
   },
   "file_extension": ".py",
   "mimetype": "text/x-python",
   "name": "python",
   "nbconvert_exporter": "python",
   "pygments_lexer": "ipython3",
   "version": "3.7.9"
  }
 },
 "nbformat": 4,
 "nbformat_minor": 2
}
