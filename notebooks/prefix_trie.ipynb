{
  "nbformat": 4,
  "nbformat_minor": 0,
  "metadata": {
    "colab": {
      "name": "prefix_trie.ipynb",
      "provenance": [],
      "collapsed_sections": []
    },
    "kernelspec": {
      "name": "python3",
      "display_name": "Python 3"
    }
  },
  "cells": [
    {
      "cell_type": "code",
      "metadata": {
        "id": "jTX0fZzDGc2k"
      },
      "source": [
        "!pip3 install --upgrade gtfs-realtime-bindings\n",
        "!pip3 install mplleaflet"
      ],
      "execution_count": null,
      "outputs": []
    },
    {
      "cell_type": "code",
      "metadata": {
        "id": "jJnscQrmXo6w"
      },
      "source": [
        "from google.transit import gtfs_realtime_pb2\n",
        "import urllib.request\n",
        "import mplleaflet as mp\n",
        "import pandas as pd\n",
        "import matplotlib.pyplot as plt\n",
        "import time"
      ],
      "execution_count": null,
      "outputs": []
    },
    {
      "cell_type": "code",
      "metadata": {
        "colab": {
          "base_uri": "https://localhost:8080/",
          "height": 419
        },
        "id": "r7RcrY5k4muX",
        "outputId": "5a5f3021-3ff1-4f0c-9b26-6640b9053fdf"
      },
      "source": [
        "route = pd.read_csv('routes.txt',sep=\",\")\n",
        "route"
      ],
      "execution_count": null,
      "outputs": [
        {
          "output_type": "execute_result",
          "data": {
            "text/html": [
              "<div>\n",
              "<style scoped>\n",
              "    .dataframe tbody tr th:only-of-type {\n",
              "        vertical-align: middle;\n",
              "    }\n",
              "\n",
              "    .dataframe tbody tr th {\n",
              "        vertical-align: top;\n",
              "    }\n",
              "\n",
              "    .dataframe thead th {\n",
              "        text-align: right;\n",
              "    }\n",
              "</style>\n",
              "<table border=\"1\" class=\"dataframe\">\n",
              "  <thead>\n",
              "    <tr style=\"text-align: right;\">\n",
              "      <th></th>\n",
              "      <th>route_short_name</th>\n",
              "      <th>route_long_name</th>\n",
              "      <th>route_type</th>\n",
              "      <th>route_id</th>\n",
              "      <th>agency_id</th>\n",
              "    </tr>\n",
              "  </thead>\n",
              "  <tbody>\n",
              "    <tr>\n",
              "      <th>0</th>\n",
              "      <td>NaN</td>\n",
              "      <td>108DOWN</td>\n",
              "      <td>3</td>\n",
              "      <td>0</td>\n",
              "      <td>DIMTS</td>\n",
              "    </tr>\n",
              "    <tr>\n",
              "      <th>1</th>\n",
              "      <td>NaN</td>\n",
              "      <td>108STLDOWN</td>\n",
              "      <td>3</td>\n",
              "      <td>1</td>\n",
              "      <td>DIMTS</td>\n",
              "    </tr>\n",
              "    <tr>\n",
              "      <th>2</th>\n",
              "      <td>NaN</td>\n",
              "      <td>108STLUP</td>\n",
              "      <td>3</td>\n",
              "      <td>2</td>\n",
              "      <td>DIMTS</td>\n",
              "    </tr>\n",
              "    <tr>\n",
              "      <th>3</th>\n",
              "      <td>NaN</td>\n",
              "      <td>108UP</td>\n",
              "      <td>3</td>\n",
              "      <td>3</td>\n",
              "      <td>DIMTS</td>\n",
              "    </tr>\n",
              "    <tr>\n",
              "      <th>4</th>\n",
              "      <td>NaN</td>\n",
              "      <td>185DOWN</td>\n",
              "      <td>3</td>\n",
              "      <td>4</td>\n",
              "      <td>DIMTS</td>\n",
              "    </tr>\n",
              "    <tr>\n",
              "      <th>...</th>\n",
              "      <td>...</td>\n",
              "      <td>...</td>\n",
              "      <td>...</td>\n",
              "      <td>...</td>\n",
              "      <td>...</td>\n",
              "    </tr>\n",
              "    <tr>\n",
              "      <th>1540</th>\n",
              "      <td>NaN</td>\n",
              "      <td>624ACLDOWN_DTC</td>\n",
              "      <td>3</td>\n",
              "      <td>1540</td>\n",
              "      <td>DTC</td>\n",
              "    </tr>\n",
              "    <tr>\n",
              "      <th>1541</th>\n",
              "      <td>NaN</td>\n",
              "      <td>408CLDOWN_DTC</td>\n",
              "      <td>3</td>\n",
              "      <td>1541</td>\n",
              "      <td>DTC</td>\n",
              "    </tr>\n",
              "    <tr>\n",
              "      <th>1542</th>\n",
              "      <td>NaN</td>\n",
              "      <td>114UP_DTC</td>\n",
              "      <td>3</td>\n",
              "      <td>1543</td>\n",
              "      <td>DTC</td>\n",
              "    </tr>\n",
              "    <tr>\n",
              "      <th>1543</th>\n",
              "      <td>NaN</td>\n",
              "      <td>182ACLSTLU_DTC</td>\n",
              "      <td>3</td>\n",
              "      <td>1545</td>\n",
              "      <td>DTC</td>\n",
              "    </tr>\n",
              "    <tr>\n",
              "      <th>1544</th>\n",
              "      <td>NaN</td>\n",
              "      <td>114DOWN_DTC</td>\n",
              "      <td>3</td>\n",
              "      <td>1544</td>\n",
              "      <td>DTC</td>\n",
              "    </tr>\n",
              "  </tbody>\n",
              "</table>\n",
              "<p>1545 rows × 5 columns</p>\n",
              "</div>"
            ],
            "text/plain": [
              "      route_short_name route_long_name  route_type  route_id agency_id\n",
              "0                  NaN         108DOWN           3         0     DIMTS\n",
              "1                  NaN      108STLDOWN           3         1     DIMTS\n",
              "2                  NaN        108STLUP           3         2     DIMTS\n",
              "3                  NaN           108UP           3         3     DIMTS\n",
              "4                  NaN         185DOWN           3         4     DIMTS\n",
              "...                ...             ...         ...       ...       ...\n",
              "1540               NaN  624ACLDOWN_DTC           3      1540       DTC\n",
              "1541               NaN   408CLDOWN_DTC           3      1541       DTC\n",
              "1542               NaN       114UP_DTC           3      1543       DTC\n",
              "1543               NaN  182ACLSTLU_DTC           3      1545       DTC\n",
              "1544               NaN     114DOWN_DTC           3      1544       DTC\n",
              "\n",
              "[1545 rows x 5 columns]"
            ]
          },
          "metadata": {
            "tags": []
          },
          "execution_count": 11
        }
      ]
    },
    {
      "cell_type": "code",
      "metadata": {
        "colab": {
          "base_uri": "https://localhost:8080/",
          "height": 419
        },
        "id": "s5UO1OLk78-Z",
        "outputId": "41897bc8-ba98-4d75-b93b-51fc3c400631"
      },
      "source": [
        "trip = pd.read_csv('trips.txt',sep=',')\n",
        "trip"
      ],
      "execution_count": null,
      "outputs": [
        {
          "output_type": "execute_result",
          "data": {
            "text/html": [
              "<div>\n",
              "<style scoped>\n",
              "    .dataframe tbody tr th:only-of-type {\n",
              "        vertical-align: middle;\n",
              "    }\n",
              "\n",
              "    .dataframe tbody tr th {\n",
              "        vertical-align: top;\n",
              "    }\n",
              "\n",
              "    .dataframe thead th {\n",
              "        text-align: right;\n",
              "    }\n",
              "</style>\n",
              "<table border=\"1\" class=\"dataframe\">\n",
              "  <thead>\n",
              "    <tr style=\"text-align: right;\">\n",
              "      <th></th>\n",
              "      <th>route_id</th>\n",
              "      <th>service_id</th>\n",
              "      <th>trip_id</th>\n",
              "      <th>shape_id</th>\n",
              "    </tr>\n",
              "  </thead>\n",
              "  <tbody>\n",
              "    <tr>\n",
              "      <th>0</th>\n",
              "      <td>0</td>\n",
              "      <td>1</td>\n",
              "      <td>0_6_0</td>\n",
              "      <td>0.0</td>\n",
              "    </tr>\n",
              "    <tr>\n",
              "      <th>1</th>\n",
              "      <td>0</td>\n",
              "      <td>1</td>\n",
              "      <td>0_6_10</td>\n",
              "      <td>0.0</td>\n",
              "    </tr>\n",
              "    <tr>\n",
              "      <th>2</th>\n",
              "      <td>0</td>\n",
              "      <td>1</td>\n",
              "      <td>0_6_20</td>\n",
              "      <td>0.0</td>\n",
              "    </tr>\n",
              "    <tr>\n",
              "      <th>3</th>\n",
              "      <td>0</td>\n",
              "      <td>1</td>\n",
              "      <td>0_6_30</td>\n",
              "      <td>0.0</td>\n",
              "    </tr>\n",
              "    <tr>\n",
              "      <th>4</th>\n",
              "      <td>0</td>\n",
              "      <td>1</td>\n",
              "      <td>0_6_40</td>\n",
              "      <td>0.0</td>\n",
              "    </tr>\n",
              "    <tr>\n",
              "      <th>...</th>\n",
              "      <td>...</td>\n",
              "      <td>...</td>\n",
              "      <td>...</td>\n",
              "      <td>...</td>\n",
              "    </tr>\n",
              "    <tr>\n",
              "      <th>75752</th>\n",
              "      <td>1544</td>\n",
              "      <td>1</td>\n",
              "      <td>1544_15_25</td>\n",
              "      <td>NaN</td>\n",
              "    </tr>\n",
              "    <tr>\n",
              "      <th>75753</th>\n",
              "      <td>1544</td>\n",
              "      <td>1</td>\n",
              "      <td>1544_8_31</td>\n",
              "      <td>NaN</td>\n",
              "    </tr>\n",
              "    <tr>\n",
              "      <th>75754</th>\n",
              "      <td>1544</td>\n",
              "      <td>1</td>\n",
              "      <td>1544_17_7</td>\n",
              "      <td>NaN</td>\n",
              "    </tr>\n",
              "    <tr>\n",
              "      <th>75755</th>\n",
              "      <td>1544</td>\n",
              "      <td>1</td>\n",
              "      <td>1544_13_55</td>\n",
              "      <td>NaN</td>\n",
              "    </tr>\n",
              "    <tr>\n",
              "      <th>75756</th>\n",
              "      <td>1544</td>\n",
              "      <td>1</td>\n",
              "      <td>1544_15_19</td>\n",
              "      <td>NaN</td>\n",
              "    </tr>\n",
              "  </tbody>\n",
              "</table>\n",
              "<p>75757 rows × 4 columns</p>\n",
              "</div>"
            ],
            "text/plain": [
              "       route_id  service_id     trip_id  shape_id\n",
              "0             0           1       0_6_0       0.0\n",
              "1             0           1      0_6_10       0.0\n",
              "2             0           1      0_6_20       0.0\n",
              "3             0           1      0_6_30       0.0\n",
              "4             0           1      0_6_40       0.0\n",
              "...         ...         ...         ...       ...\n",
              "75752      1544           1  1544_15_25       NaN\n",
              "75753      1544           1   1544_8_31       NaN\n",
              "75754      1544           1   1544_17_7       NaN\n",
              "75755      1544           1  1544_13_55       NaN\n",
              "75756      1544           1  1544_15_19       NaN\n",
              "\n",
              "[75757 rows x 4 columns]"
            ]
          },
          "metadata": {
            "tags": []
          },
          "execution_count": 18
        }
      ]
    },
    {
      "cell_type": "code",
      "metadata": {
        "colab": {
          "base_uri": "https://localhost:8080/",
          "height": 419
        },
        "id": "xBewq-Us7uAD",
        "outputId": "688c1ac9-0f4a-4725-c2e2-ff61e0e22068"
      },
      "source": [
        "df=route.merge(trip,how='inner',on='route_id')[['route_long_name','route_id','shape_id']]\n",
        "df"
      ],
      "execution_count": null,
      "outputs": [
        {
          "output_type": "execute_result",
          "data": {
            "text/html": [
              "<div>\n",
              "<style scoped>\n",
              "    .dataframe tbody tr th:only-of-type {\n",
              "        vertical-align: middle;\n",
              "    }\n",
              "\n",
              "    .dataframe tbody tr th {\n",
              "        vertical-align: top;\n",
              "    }\n",
              "\n",
              "    .dataframe thead th {\n",
              "        text-align: right;\n",
              "    }\n",
              "</style>\n",
              "<table border=\"1\" class=\"dataframe\">\n",
              "  <thead>\n",
              "    <tr style=\"text-align: right;\">\n",
              "      <th></th>\n",
              "      <th>route_long_name</th>\n",
              "      <th>route_id</th>\n",
              "      <th>shape_id</th>\n",
              "    </tr>\n",
              "  </thead>\n",
              "  <tbody>\n",
              "    <tr>\n",
              "      <th>0</th>\n",
              "      <td>108DOWN</td>\n",
              "      <td>0</td>\n",
              "      <td>0.0</td>\n",
              "    </tr>\n",
              "    <tr>\n",
              "      <th>1</th>\n",
              "      <td>108DOWN</td>\n",
              "      <td>0</td>\n",
              "      <td>0.0</td>\n",
              "    </tr>\n",
              "    <tr>\n",
              "      <th>2</th>\n",
              "      <td>108DOWN</td>\n",
              "      <td>0</td>\n",
              "      <td>0.0</td>\n",
              "    </tr>\n",
              "    <tr>\n",
              "      <th>3</th>\n",
              "      <td>108DOWN</td>\n",
              "      <td>0</td>\n",
              "      <td>0.0</td>\n",
              "    </tr>\n",
              "    <tr>\n",
              "      <th>4</th>\n",
              "      <td>108DOWN</td>\n",
              "      <td>0</td>\n",
              "      <td>0.0</td>\n",
              "    </tr>\n",
              "    <tr>\n",
              "      <th>...</th>\n",
              "      <td>...</td>\n",
              "      <td>...</td>\n",
              "      <td>...</td>\n",
              "    </tr>\n",
              "    <tr>\n",
              "      <th>75752</th>\n",
              "      <td>114DOWN_DTC</td>\n",
              "      <td>1544</td>\n",
              "      <td>NaN</td>\n",
              "    </tr>\n",
              "    <tr>\n",
              "      <th>75753</th>\n",
              "      <td>114DOWN_DTC</td>\n",
              "      <td>1544</td>\n",
              "      <td>NaN</td>\n",
              "    </tr>\n",
              "    <tr>\n",
              "      <th>75754</th>\n",
              "      <td>114DOWN_DTC</td>\n",
              "      <td>1544</td>\n",
              "      <td>NaN</td>\n",
              "    </tr>\n",
              "    <tr>\n",
              "      <th>75755</th>\n",
              "      <td>114DOWN_DTC</td>\n",
              "      <td>1544</td>\n",
              "      <td>NaN</td>\n",
              "    </tr>\n",
              "    <tr>\n",
              "      <th>75756</th>\n",
              "      <td>114DOWN_DTC</td>\n",
              "      <td>1544</td>\n",
              "      <td>NaN</td>\n",
              "    </tr>\n",
              "  </tbody>\n",
              "</table>\n",
              "<p>75757 rows × 3 columns</p>\n",
              "</div>"
            ],
            "text/plain": [
              "      route_long_name  route_id  shape_id\n",
              "0             108DOWN         0       0.0\n",
              "1             108DOWN         0       0.0\n",
              "2             108DOWN         0       0.0\n",
              "3             108DOWN         0       0.0\n",
              "4             108DOWN         0       0.0\n",
              "...               ...       ...       ...\n",
              "75752     114DOWN_DTC      1544       NaN\n",
              "75753     114DOWN_DTC      1544       NaN\n",
              "75754     114DOWN_DTC      1544       NaN\n",
              "75755     114DOWN_DTC      1544       NaN\n",
              "75756     114DOWN_DTC      1544       NaN\n",
              "\n",
              "[75757 rows x 3 columns]"
            ]
          },
          "metadata": {
            "tags": []
          },
          "execution_count": 24
        }
      ]
    },
    {
      "cell_type": "code",
      "metadata": {
        "colab": {
          "base_uri": "https://localhost:8080/"
        },
        "id": "0hg3JO4V_v-d",
        "outputId": "bf919c90-9237-4f50-ef49-c99e5c27f5a7"
      },
      "source": [
        "route['agency_id'].value_counts()"
      ],
      "execution_count": null,
      "outputs": [
        {
          "output_type": "execute_result",
          "data": {
            "text/plain": [
              "DIMTS    1210\n",
              "DTC       335\n",
              "Name: agency_id, dtype: int64"
            ]
          },
          "metadata": {
            "tags": []
          },
          "execution_count": 36
        }
      ]
    },
    {
      "cell_type": "code",
      "metadata": {
        "colab": {
          "base_uri": "https://localhost:8080/",
          "height": 419
        },
        "id": "fOy3wBpoIcpZ",
        "outputId": "31833326-ddbe-43a7-c567-c418d3c7d1c4"
      },
      "source": [
        "shapes = pd.read_csv('shapes.txt', sep=\",\")\n",
        "shapes"
      ],
      "execution_count": null,
      "outputs": [
        {
          "output_type": "execute_result",
          "data": {
            "text/html": [
              "<div>\n",
              "<style scoped>\n",
              "    .dataframe tbody tr th:only-of-type {\n",
              "        vertical-align: middle;\n",
              "    }\n",
              "\n",
              "    .dataframe tbody tr th {\n",
              "        vertical-align: top;\n",
              "    }\n",
              "\n",
              "    .dataframe thead th {\n",
              "        text-align: right;\n",
              "    }\n",
              "</style>\n",
              "<table border=\"1\" class=\"dataframe\">\n",
              "  <thead>\n",
              "    <tr style=\"text-align: right;\">\n",
              "      <th></th>\n",
              "      <th>shape_id</th>\n",
              "      <th>shape_pt_lat</th>\n",
              "      <th>shape_pt_lon</th>\n",
              "      <th>shape_pt_sequence</th>\n",
              "    </tr>\n",
              "  </thead>\n",
              "  <tbody>\n",
              "    <tr>\n",
              "      <th>0</th>\n",
              "      <td>0</td>\n",
              "      <td>28.625198</td>\n",
              "      <td>77.110808</td>\n",
              "      <td>0</td>\n",
              "    </tr>\n",
              "    <tr>\n",
              "      <th>1</th>\n",
              "      <td>0</td>\n",
              "      <td>28.625220</td>\n",
              "      <td>77.110815</td>\n",
              "      <td>1</td>\n",
              "    </tr>\n",
              "    <tr>\n",
              "      <th>2</th>\n",
              "      <td>0</td>\n",
              "      <td>28.625280</td>\n",
              "      <td>77.110831</td>\n",
              "      <td>2</td>\n",
              "    </tr>\n",
              "    <tr>\n",
              "      <th>3</th>\n",
              "      <td>0</td>\n",
              "      <td>28.625483</td>\n",
              "      <td>77.110835</td>\n",
              "      <td>3</td>\n",
              "    </tr>\n",
              "    <tr>\n",
              "      <th>4</th>\n",
              "      <td>0</td>\n",
              "      <td>28.625705</td>\n",
              "      <td>77.110839</td>\n",
              "      <td>4</td>\n",
              "    </tr>\n",
              "    <tr>\n",
              "      <th>...</th>\n",
              "      <td>...</td>\n",
              "      <td>...</td>\n",
              "      <td>...</td>\n",
              "      <td>...</td>\n",
              "    </tr>\n",
              "    <tr>\n",
              "      <th>242239</th>\n",
              "      <td>533</td>\n",
              "      <td>28.618988</td>\n",
              "      <td>77.031115</td>\n",
              "      <td>708</td>\n",
              "    </tr>\n",
              "    <tr>\n",
              "      <th>242240</th>\n",
              "      <td>533</td>\n",
              "      <td>28.619000</td>\n",
              "      <td>77.031478</td>\n",
              "      <td>709</td>\n",
              "    </tr>\n",
              "    <tr>\n",
              "      <th>242241</th>\n",
              "      <td>533</td>\n",
              "      <td>28.619005</td>\n",
              "      <td>77.031547</td>\n",
              "      <td>710</td>\n",
              "    </tr>\n",
              "    <tr>\n",
              "      <th>242242</th>\n",
              "      <td>533</td>\n",
              "      <td>28.618953</td>\n",
              "      <td>77.031561</td>\n",
              "      <td>711</td>\n",
              "    </tr>\n",
              "    <tr>\n",
              "      <th>242243</th>\n",
              "      <td>533</td>\n",
              "      <td>28.625444</td>\n",
              "      <td>77.066447</td>\n",
              "      <td>712</td>\n",
              "    </tr>\n",
              "  </tbody>\n",
              "</table>\n",
              "<p>242244 rows × 4 columns</p>\n",
              "</div>"
            ],
            "text/plain": [
              "        shape_id  shape_pt_lat  shape_pt_lon  shape_pt_sequence\n",
              "0              0     28.625198     77.110808                  0\n",
              "1              0     28.625220     77.110815                  1\n",
              "2              0     28.625280     77.110831                  2\n",
              "3              0     28.625483     77.110835                  3\n",
              "4              0     28.625705     77.110839                  4\n",
              "...          ...           ...           ...                ...\n",
              "242239       533     28.618988     77.031115                708\n",
              "242240       533     28.619000     77.031478                709\n",
              "242241       533     28.619005     77.031547                710\n",
              "242242       533     28.618953     77.031561                711\n",
              "242243       533     28.625444     77.066447                712\n",
              "\n",
              "[242244 rows x 4 columns]"
            ]
          },
          "metadata": {
            "tags": []
          },
          "execution_count": 15
        }
      ]
    },
    {
      "cell_type": "code",
      "metadata": {
        "colab": {
          "base_uri": "https://localhost:8080/",
          "height": 419
        },
        "id": "J10-H52v9dq0",
        "outputId": "4329be7a-dfa4-4d82-c0e0-7047b0bd59ba"
      },
      "source": [
        "route_shape_map = df.merge(shapes,how='inner',on='shape_id')\n",
        "route_shape_map"
      ],
      "execution_count": null,
      "outputs": [
        {
          "output_type": "execute_result",
          "data": {
            "text/html": [
              "<div>\n",
              "<style scoped>\n",
              "    .dataframe tbody tr th:only-of-type {\n",
              "        vertical-align: middle;\n",
              "    }\n",
              "\n",
              "    .dataframe tbody tr th {\n",
              "        vertical-align: top;\n",
              "    }\n",
              "\n",
              "    .dataframe thead th {\n",
              "        text-align: right;\n",
              "    }\n",
              "</style>\n",
              "<table border=\"1\" class=\"dataframe\">\n",
              "  <thead>\n",
              "    <tr style=\"text-align: right;\">\n",
              "      <th></th>\n",
              "      <th>route_long_name</th>\n",
              "      <th>route_id</th>\n",
              "      <th>shape_id</th>\n",
              "      <th>shape_pt_lat</th>\n",
              "      <th>shape_pt_lon</th>\n",
              "      <th>shape_pt_sequence</th>\n",
              "    </tr>\n",
              "  </thead>\n",
              "  <tbody>\n",
              "    <tr>\n",
              "      <th>0</th>\n",
              "      <td>108DOWN</td>\n",
              "      <td>0</td>\n",
              "      <td>0.0</td>\n",
              "      <td>28.625198</td>\n",
              "      <td>77.110808</td>\n",
              "      <td>0</td>\n",
              "    </tr>\n",
              "    <tr>\n",
              "      <th>1</th>\n",
              "      <td>108DOWN</td>\n",
              "      <td>0</td>\n",
              "      <td>0.0</td>\n",
              "      <td>28.625220</td>\n",
              "      <td>77.110815</td>\n",
              "      <td>1</td>\n",
              "    </tr>\n",
              "    <tr>\n",
              "      <th>2</th>\n",
              "      <td>108DOWN</td>\n",
              "      <td>0</td>\n",
              "      <td>0.0</td>\n",
              "      <td>28.625280</td>\n",
              "      <td>77.110831</td>\n",
              "      <td>2</td>\n",
              "    </tr>\n",
              "    <tr>\n",
              "      <th>3</th>\n",
              "      <td>108DOWN</td>\n",
              "      <td>0</td>\n",
              "      <td>0.0</td>\n",
              "      <td>28.625483</td>\n",
              "      <td>77.110835</td>\n",
              "      <td>3</td>\n",
              "    </tr>\n",
              "    <tr>\n",
              "      <th>4</th>\n",
              "      <td>108DOWN</td>\n",
              "      <td>0</td>\n",
              "      <td>0.0</td>\n",
              "      <td>28.625705</td>\n",
              "      <td>77.110839</td>\n",
              "      <td>4</td>\n",
              "    </tr>\n",
              "    <tr>\n",
              "      <th>...</th>\n",
              "      <td>...</td>\n",
              "      <td>...</td>\n",
              "      <td>...</td>\n",
              "      <td>...</td>\n",
              "      <td>...</td>\n",
              "      <td>...</td>\n",
              "    </tr>\n",
              "    <tr>\n",
              "      <th>16495216</th>\n",
              "      <td>751UP</td>\n",
              "      <td>533</td>\n",
              "      <td>533.0</td>\n",
              "      <td>28.618988</td>\n",
              "      <td>77.031115</td>\n",
              "      <td>708</td>\n",
              "    </tr>\n",
              "    <tr>\n",
              "      <th>16495217</th>\n",
              "      <td>751UP</td>\n",
              "      <td>533</td>\n",
              "      <td>533.0</td>\n",
              "      <td>28.619000</td>\n",
              "      <td>77.031478</td>\n",
              "      <td>709</td>\n",
              "    </tr>\n",
              "    <tr>\n",
              "      <th>16495218</th>\n",
              "      <td>751UP</td>\n",
              "      <td>533</td>\n",
              "      <td>533.0</td>\n",
              "      <td>28.619005</td>\n",
              "      <td>77.031547</td>\n",
              "      <td>710</td>\n",
              "    </tr>\n",
              "    <tr>\n",
              "      <th>16495219</th>\n",
              "      <td>751UP</td>\n",
              "      <td>533</td>\n",
              "      <td>533.0</td>\n",
              "      <td>28.618953</td>\n",
              "      <td>77.031561</td>\n",
              "      <td>711</td>\n",
              "    </tr>\n",
              "    <tr>\n",
              "      <th>16495220</th>\n",
              "      <td>751UP</td>\n",
              "      <td>533</td>\n",
              "      <td>533.0</td>\n",
              "      <td>28.625444</td>\n",
              "      <td>77.066447</td>\n",
              "      <td>712</td>\n",
              "    </tr>\n",
              "  </tbody>\n",
              "</table>\n",
              "<p>16495221 rows × 6 columns</p>\n",
              "</div>"
            ],
            "text/plain": [
              "         route_long_name  route_id  ...  shape_pt_lon  shape_pt_sequence\n",
              "0                108DOWN         0  ...     77.110808                  0\n",
              "1                108DOWN         0  ...     77.110815                  1\n",
              "2                108DOWN         0  ...     77.110831                  2\n",
              "3                108DOWN         0  ...     77.110835                  3\n",
              "4                108DOWN         0  ...     77.110839                  4\n",
              "...                  ...       ...  ...           ...                ...\n",
              "16495216           751UP       533  ...     77.031115                708\n",
              "16495217           751UP       533  ...     77.031478                709\n",
              "16495218           751UP       533  ...     77.031547                710\n",
              "16495219           751UP       533  ...     77.031561                711\n",
              "16495220           751UP       533  ...     77.066447                712\n",
              "\n",
              "[16495221 rows x 6 columns]"
            ]
          },
          "metadata": {
            "tags": []
          },
          "execution_count": 29
        }
      ]
    },
    {
      "cell_type": "markdown",
      "metadata": {
        "id": "mvaT_XHPG4IN"
      },
      "source": [
        "# Graph creation"
      ]
    },
    {
      "cell_type": "code",
      "metadata": {
        "colab": {
          "base_uri": "https://localhost:8080/"
        },
        "id": "iCSx4FiPIGLo",
        "outputId": "08261f1f-7cbc-4818-8c49-6f7bbf33bd4a"
      },
      "source": [
        "x = route_shape_map.groupby(['shape_pt_lat','shape_pt_lon']).size()\n",
        "x"
      ],
      "execution_count": null,
      "outputs": [
        {
          "output_type": "execute_result",
          "data": {
            "text/plain": [
              "shape_pt_lat  shape_pt_lon\n",
              "28.490695     77.304077       100\n",
              "28.490785     77.303741       880\n",
              "28.490846     77.304046       409\n",
              "28.491244     77.303870       966\n",
              "28.491317     77.304038        93\n",
              "                             ... \n",
              "28.858176     77.093328        35\n",
              "              77.093332        35\n",
              "              77.093337        35\n",
              "              77.093342        35\n",
              "              77.093347        35\n",
              "Length: 46033, dtype: int64"
            ]
          },
          "metadata": {
            "tags": []
          },
          "execution_count": 44
        }
      ]
    },
    {
      "cell_type": "code",
      "metadata": {
        "id": "4Rscv7uoKRBJ"
      },
      "source": [
        "graph = {}"
      ],
      "execution_count": null,
      "outputs": []
    },
    {
      "cell_type": "code",
      "metadata": {
        "id": "QQBF6sAR0tpI",
        "colab": {
          "base_uri": "https://localhost:8080/"
        },
        "outputId": "e1ef25b6-9b08-45f9-aaea-d53bf708f489"
      },
      "source": [
        "for index,row in route_shape_map.iterrows():\n",
        "  gps = (row['shape_pt_lat'],row['shape_pt_lon'])\n",
        "  if gps in graph:\n",
        "    if row['route_id'] not in graph[gps][route]:\n",
        "      graph[gps]['route'].append(row['route_id'])\n",
        "    \n",
        "  else:\n",
        "    graph[gps]['route']=[]\n",
        "    graph[gps]['route'].append(row['route_id'])\n",
        "\n"
      ],
      "execution_count": null,
      "outputs": [
        {
          "output_type": "stream",
          "text": [
            "route_long_name      108DOWN\n",
            "route_id                   0\n",
            "shape_id                   0\n",
            "shape_pt_lat         28.6252\n",
            "shape_pt_lon         77.1108\n",
            "shape_pt_sequence          0\n",
            "Name: 0, dtype: object\n"
          ],
          "name": "stdout"
        }
      ]
    },
    {
      "cell_type": "markdown",
      "metadata": {
        "id": "XepHTL6MEdCS"
      },
      "source": [
        "#Check\n"
      ]
    },
    {
      "cell_type": "code",
      "metadata": {
        "id": "ebIYiE_tfG_v"
      },
      "source": [
        "def put(feed,lat,lon):\n",
        "  # print(feed.entity)\n",
        "  for entity in feed.entity:\n",
        "    if entity.id==\"DL1PC6641\":\n",
        "      lat.append(entity.vehicle.position.latitude)\n",
        "      lon.append(entity.vehicle.position.longitude)\n",
        "      break"
      ],
      "execution_count": null,
      "outputs": []
    },
    {
      "cell_type": "code",
      "metadata": {
        "id": "_jPuwASFy6k0"
      },
      "source": [
        "feed = gtfs_realtime_pb2.FeedMessage()\n",
        "response = urllib.request.urlopen('https://opendata.iiitd.edu.in/api/realtime/VehiclePositions.pb?key=5kOKha1VJqxWvkkIp1J71Yrb5mc3VsDS')\n",
        "feed.ParseFromString(response.read())\n",
        "print(feed.entity)"
      ],
      "execution_count": null,
      "outputs": []
    },
    {
      "cell_type": "code",
      "metadata": {
        "id": "i1Y1k3xbaN7I"
      },
      "source": [
        "feed = gtfs_realtime_pb2.FeedMessage()\n",
        "lat=[]\n",
        "lon=[]\n",
        "for i in range(100):\n",
        "  response = urllib.request.urlopen('https://opendata.iiitd.edu.in/api/realtime/VehiclePositions.pb?key=5kOKha1VJqxWvkkIp1J71Yrb5mc3VsDS')\n",
        "  feed.ParseFromString(response.read())\n",
        "  put(feed,lat,lon)\n",
        "  time.sleep(10)"
      ],
      "execution_count": null,
      "outputs": []
    },
    {
      "cell_type": "code",
      "metadata": {
        "id": "LItuZGkXSAw4"
      },
      "source": [
        "lat"
      ],
      "execution_count": null,
      "outputs": []
    },
    {
      "cell_type": "code",
      "metadata": {
        "colab": {
          "base_uri": "https://localhost:8080/",
          "height": 285
        },
        "id": "RNIAIT88PKlt",
        "outputId": "00f8a9b5-53e6-4d66-d80e-f52ffa67d9c9"
      },
      "source": [
        "fig =plt.figure()\n",
        "plt.plot(lon,lat,linewidth=3)\n",
        "mp.display(fig=fig)"
      ],
      "execution_count": null,
      "outputs": [
        {
          "output_type": "execute_result",
          "data": {
            "text/html": [
              "<iframe src=\"data:text/html;base64,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\" width=\"100%\" height=\"240\"></iframe>"
            ],
            "text/plain": [
              "<IPython.core.display.HTML object>"
            ]
          },
          "metadata": {
            "tags": []
          },
          "execution_count": 9
        }
      ]
    }
  ]
}