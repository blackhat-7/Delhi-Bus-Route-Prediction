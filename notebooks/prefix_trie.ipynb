{
  "nbformat": 4,
  "nbformat_minor": 0,
  "metadata": {
    "colab": {
      "name": "prefix_trie.ipynb",
      "provenance": [],
      "collapsed_sections": []
    },
    "kernelspec": {
      "name": "python3",
      "display_name": "Python 3",
      "language": "python"
    }
  },
  "cells": [
    {
      "cell_type": "code",
      "metadata": {
        "id": "jTX0fZzDGc2k",
        "colab": {
          "base_uri": "https://localhost:8080/"
        },
        "outputId": "04dc79fe-b64b-4c88-e13c-c5b310d93911"
      },
      "source": [
        "!pip install --upgrade gtfs-realtime-bindings\n",
        "!pip install mplleaflet"
      ],
      "execution_count": 1,
      "outputs": [
        {
          "output_type": "stream",
          "name": "stdout",
          "text": [
            "Requirement already satisfied: gtfs-realtime-bindings in /Users/macbookpro/anaconda3/envs/btp/lib/python3.7/site-packages (0.0.7)\n",
            "Requirement already satisfied: setuptools in /Users/macbookpro/anaconda3/envs/btp/lib/python3.7/site-packages (from gtfs-realtime-bindings) (51.0.0.post20201207)\n",
            "Requirement already satisfied: protobuf in /Users/macbookpro/anaconda3/envs/btp/lib/python3.7/site-packages (from gtfs-realtime-bindings) (3.14.0)\n",
            "Requirement already satisfied: six>=1.9 in /Users/macbookpro/anaconda3/envs/btp/lib/python3.7/site-packages (from protobuf->gtfs-realtime-bindings) (1.15.0)\n",
            "Requirement already satisfied: mplleaflet in /Users/macbookpro/anaconda3/envs/btp/lib/python3.7/site-packages (0.0.5)\n",
            "Requirement already satisfied: jinja2 in /Users/macbookpro/anaconda3/envs/btp/lib/python3.7/site-packages (from mplleaflet) (2.11.2)\n",
            "Requirement already satisfied: six in /Users/macbookpro/anaconda3/envs/btp/lib/python3.7/site-packages (from mplleaflet) (1.15.0)\n",
            "Requirement already satisfied: MarkupSafe>=0.23 in /Users/macbookpro/anaconda3/envs/btp/lib/python3.7/site-packages (from jinja2->mplleaflet) (1.1.1)\n"
          ]
        }
      ]
    },
    {
      "cell_type": "code",
      "metadata": {
        "id": "jJnscQrmXo6w"
      },
      "source": [
        "from google.transit import gtfs_realtime_pb2\n",
        "import urllib.request\n",
        "import mplleaflet as mp\n",
        "import pandas as pd\n",
        "import matplotlib.pyplot as plt\n",
        "import time\n",
        "import pickle"
      ],
      "execution_count": 20,
      "outputs": []
    },
    {
      "cell_type": "code",
      "metadata": {
        "colab": {
          "base_uri": "https://localhost:8080/",
          "height": 419
        },
        "id": "r7RcrY5k4muX",
        "outputId": "4fc76d1b-3a70-48a2-8cb2-1e35a92632e4"
      },
      "source": [
        "dir = '../data/static_data'\n",
        "route = pd.read_csv(dir + 'routes.txt',sep=\",\")\n",
        "route"
      ],
      "execution_count": 4,
      "outputs": [
        {
          "output_type": "execute_result",
          "data": {
            "text/plain": [
              "      route_short_name route_long_name  route_type  route_id agency_id\n",
              "0                  NaN         108DOWN           3         0     DIMTS\n",
              "1                  NaN      108STLDOWN           3         1     DIMTS\n",
              "2                  NaN        108STLUP           3         2     DIMTS\n",
              "3                  NaN           108UP           3         3     DIMTS\n",
              "4                  NaN         185DOWN           3         4     DIMTS\n",
              "...                ...             ...         ...       ...       ...\n",
              "1540               NaN  624ACLDOWN_DTC           3      1540       DTC\n",
              "1541               NaN   408CLDOWN_DTC           3      1541       DTC\n",
              "1542               NaN       114UP_DTC           3      1543       DTC\n",
              "1543               NaN  182ACLSTLU_DTC           3      1545       DTC\n",
              "1544               NaN     114DOWN_DTC           3      1544       DTC\n",
              "\n",
              "[1545 rows x 5 columns]"
            ],
            "text/html": "<div>\n<style scoped>\n    .dataframe tbody tr th:only-of-type {\n        vertical-align: middle;\n    }\n\n    .dataframe tbody tr th {\n        vertical-align: top;\n    }\n\n    .dataframe thead th {\n        text-align: right;\n    }\n</style>\n<table border=\"1\" class=\"dataframe\">\n  <thead>\n    <tr style=\"text-align: right;\">\n      <th></th>\n      <th>route_short_name</th>\n      <th>route_long_name</th>\n      <th>route_type</th>\n      <th>route_id</th>\n      <th>agency_id</th>\n    </tr>\n  </thead>\n  <tbody>\n    <tr>\n      <th>0</th>\n      <td>NaN</td>\n      <td>108DOWN</td>\n      <td>3</td>\n      <td>0</td>\n      <td>DIMTS</td>\n    </tr>\n    <tr>\n      <th>1</th>\n      <td>NaN</td>\n      <td>108STLDOWN</td>\n      <td>3</td>\n      <td>1</td>\n      <td>DIMTS</td>\n    </tr>\n    <tr>\n      <th>2</th>\n      <td>NaN</td>\n      <td>108STLUP</td>\n      <td>3</td>\n      <td>2</td>\n      <td>DIMTS</td>\n    </tr>\n    <tr>\n      <th>3</th>\n      <td>NaN</td>\n      <td>108UP</td>\n      <td>3</td>\n      <td>3</td>\n      <td>DIMTS</td>\n    </tr>\n    <tr>\n      <th>4</th>\n      <td>NaN</td>\n      <td>185DOWN</td>\n      <td>3</td>\n      <td>4</td>\n      <td>DIMTS</td>\n    </tr>\n    <tr>\n      <th>...</th>\n      <td>...</td>\n      <td>...</td>\n      <td>...</td>\n      <td>...</td>\n      <td>...</td>\n    </tr>\n    <tr>\n      <th>1540</th>\n      <td>NaN</td>\n      <td>624ACLDOWN_DTC</td>\n      <td>3</td>\n      <td>1540</td>\n      <td>DTC</td>\n    </tr>\n    <tr>\n      <th>1541</th>\n      <td>NaN</td>\n      <td>408CLDOWN_DTC</td>\n      <td>3</td>\n      <td>1541</td>\n      <td>DTC</td>\n    </tr>\n    <tr>\n      <th>1542</th>\n      <td>NaN</td>\n      <td>114UP_DTC</td>\n      <td>3</td>\n      <td>1543</td>\n      <td>DTC</td>\n    </tr>\n    <tr>\n      <th>1543</th>\n      <td>NaN</td>\n      <td>182ACLSTLU_DTC</td>\n      <td>3</td>\n      <td>1545</td>\n      <td>DTC</td>\n    </tr>\n    <tr>\n      <th>1544</th>\n      <td>NaN</td>\n      <td>114DOWN_DTC</td>\n      <td>3</td>\n      <td>1544</td>\n      <td>DTC</td>\n    </tr>\n  </tbody>\n</table>\n<p>1545 rows × 5 columns</p>\n</div>"
          },
          "metadata": {},
          "execution_count": 4
        }
      ]
    },
    {
      "cell_type": "code",
      "metadata": {
        "colab": {
          "base_uri": "https://localhost:8080/",
          "height": 419
        },
        "id": "s5UO1OLk78-Z",
        "outputId": "fe6609e4-011c-4382-a8de-5a86fe9e5c06"
      },
      "source": [
        "trip = pd.read_csv(dir + 'trips.txt',sep=',')\n",
        "trip"
      ],
      "execution_count": 5,
      "outputs": [
        {
          "output_type": "execute_result",
          "data": {
            "text/plain": [
              "       route_id  service_id     trip_id  shape_id\n",
              "0             0           1       0_6_0       0.0\n",
              "1             0           1      0_6_10       0.0\n",
              "2             0           1      0_6_20       0.0\n",
              "3             0           1      0_6_30       0.0\n",
              "4             0           1      0_6_40       0.0\n",
              "...         ...         ...         ...       ...\n",
              "75752      1544           1  1544_15_25       NaN\n",
              "75753      1544           1   1544_8_31       NaN\n",
              "75754      1544           1   1544_17_7       NaN\n",
              "75755      1544           1  1544_13_55       NaN\n",
              "75756      1544           1  1544_15_19       NaN\n",
              "\n",
              "[75757 rows x 4 columns]"
            ],
            "text/html": "<div>\n<style scoped>\n    .dataframe tbody tr th:only-of-type {\n        vertical-align: middle;\n    }\n\n    .dataframe tbody tr th {\n        vertical-align: top;\n    }\n\n    .dataframe thead th {\n        text-align: right;\n    }\n</style>\n<table border=\"1\" class=\"dataframe\">\n  <thead>\n    <tr style=\"text-align: right;\">\n      <th></th>\n      <th>route_id</th>\n      <th>service_id</th>\n      <th>trip_id</th>\n      <th>shape_id</th>\n    </tr>\n  </thead>\n  <tbody>\n    <tr>\n      <th>0</th>\n      <td>0</td>\n      <td>1</td>\n      <td>0_6_0</td>\n      <td>0.0</td>\n    </tr>\n    <tr>\n      <th>1</th>\n      <td>0</td>\n      <td>1</td>\n      <td>0_6_10</td>\n      <td>0.0</td>\n    </tr>\n    <tr>\n      <th>2</th>\n      <td>0</td>\n      <td>1</td>\n      <td>0_6_20</td>\n      <td>0.0</td>\n    </tr>\n    <tr>\n      <th>3</th>\n      <td>0</td>\n      <td>1</td>\n      <td>0_6_30</td>\n      <td>0.0</td>\n    </tr>\n    <tr>\n      <th>4</th>\n      <td>0</td>\n      <td>1</td>\n      <td>0_6_40</td>\n      <td>0.0</td>\n    </tr>\n    <tr>\n      <th>...</th>\n      <td>...</td>\n      <td>...</td>\n      <td>...</td>\n      <td>...</td>\n    </tr>\n    <tr>\n      <th>75752</th>\n      <td>1544</td>\n      <td>1</td>\n      <td>1544_15_25</td>\n      <td>NaN</td>\n    </tr>\n    <tr>\n      <th>75753</th>\n      <td>1544</td>\n      <td>1</td>\n      <td>1544_8_31</td>\n      <td>NaN</td>\n    </tr>\n    <tr>\n      <th>75754</th>\n      <td>1544</td>\n      <td>1</td>\n      <td>1544_17_7</td>\n      <td>NaN</td>\n    </tr>\n    <tr>\n      <th>75755</th>\n      <td>1544</td>\n      <td>1</td>\n      <td>1544_13_55</td>\n      <td>NaN</td>\n    </tr>\n    <tr>\n      <th>75756</th>\n      <td>1544</td>\n      <td>1</td>\n      <td>1544_15_19</td>\n      <td>NaN</td>\n    </tr>\n  </tbody>\n</table>\n<p>75757 rows × 4 columns</p>\n</div>"
          },
          "metadata": {},
          "execution_count": 5
        }
      ]
    },
    {
      "cell_type": "code",
      "metadata": {
        "colab": {
          "base_uri": "https://localhost:8080/",
          "height": 419
        },
        "id": "xBewq-Us7uAD",
        "outputId": "e1fa1164-1079-4993-804e-f2689f560988"
      },
      "source": [
        "df=route.merge(trip,how='inner',on='route_id')[['route_long_name','route_id','shape_id']]\n",
        "df"
      ],
      "execution_count": 6,
      "outputs": [
        {
          "output_type": "execute_result",
          "data": {
            "text/plain": [
              "      route_long_name  route_id  shape_id\n",
              "0             108DOWN         0       0.0\n",
              "1             108DOWN         0       0.0\n",
              "2             108DOWN         0       0.0\n",
              "3             108DOWN         0       0.0\n",
              "4             108DOWN         0       0.0\n",
              "...               ...       ...       ...\n",
              "75752     114DOWN_DTC      1544       NaN\n",
              "75753     114DOWN_DTC      1544       NaN\n",
              "75754     114DOWN_DTC      1544       NaN\n",
              "75755     114DOWN_DTC      1544       NaN\n",
              "75756     114DOWN_DTC      1544       NaN\n",
              "\n",
              "[75757 rows x 3 columns]"
            ],
            "text/html": "<div>\n<style scoped>\n    .dataframe tbody tr th:only-of-type {\n        vertical-align: middle;\n    }\n\n    .dataframe tbody tr th {\n        vertical-align: top;\n    }\n\n    .dataframe thead th {\n        text-align: right;\n    }\n</style>\n<table border=\"1\" class=\"dataframe\">\n  <thead>\n    <tr style=\"text-align: right;\">\n      <th></th>\n      <th>route_long_name</th>\n      <th>route_id</th>\n      <th>shape_id</th>\n    </tr>\n  </thead>\n  <tbody>\n    <tr>\n      <th>0</th>\n      <td>108DOWN</td>\n      <td>0</td>\n      <td>0.0</td>\n    </tr>\n    <tr>\n      <th>1</th>\n      <td>108DOWN</td>\n      <td>0</td>\n      <td>0.0</td>\n    </tr>\n    <tr>\n      <th>2</th>\n      <td>108DOWN</td>\n      <td>0</td>\n      <td>0.0</td>\n    </tr>\n    <tr>\n      <th>3</th>\n      <td>108DOWN</td>\n      <td>0</td>\n      <td>0.0</td>\n    </tr>\n    <tr>\n      <th>4</th>\n      <td>108DOWN</td>\n      <td>0</td>\n      <td>0.0</td>\n    </tr>\n    <tr>\n      <th>...</th>\n      <td>...</td>\n      <td>...</td>\n      <td>...</td>\n    </tr>\n    <tr>\n      <th>75752</th>\n      <td>114DOWN_DTC</td>\n      <td>1544</td>\n      <td>NaN</td>\n    </tr>\n    <tr>\n      <th>75753</th>\n      <td>114DOWN_DTC</td>\n      <td>1544</td>\n      <td>NaN</td>\n    </tr>\n    <tr>\n      <th>75754</th>\n      <td>114DOWN_DTC</td>\n      <td>1544</td>\n      <td>NaN</td>\n    </tr>\n    <tr>\n      <th>75755</th>\n      <td>114DOWN_DTC</td>\n      <td>1544</td>\n      <td>NaN</td>\n    </tr>\n    <tr>\n      <th>75756</th>\n      <td>114DOWN_DTC</td>\n      <td>1544</td>\n      <td>NaN</td>\n    </tr>\n  </tbody>\n</table>\n<p>75757 rows × 3 columns</p>\n</div>"
          },
          "metadata": {},
          "execution_count": 6
        }
      ]
    },
    {
      "cell_type": "code",
      "metadata": {
        "colab": {
          "base_uri": "https://localhost:8080/"
        },
        "id": "0hg3JO4V_v-d",
        "outputId": "22b881b2-a396-42d6-9146-be290fa1d58a"
      },
      "source": [
        "route['agency_id'].value_counts()"
      ],
      "execution_count": 7,
      "outputs": [
        {
          "output_type": "execute_result",
          "data": {
            "text/plain": [
              "DIMTS    1210\n",
              "DTC       335\n",
              "Name: agency_id, dtype: int64"
            ]
          },
          "metadata": {},
          "execution_count": 7
        }
      ]
    },
    {
      "cell_type": "code",
      "metadata": {
        "colab": {
          "base_uri": "https://localhost:8080/",
          "height": 419
        },
        "id": "fOy3wBpoIcpZ",
        "outputId": "97b72545-aa7d-4d4d-d775-260cb7ffb2d7"
      },
      "source": [
        "shapes = pd.read_csv(dir + 'shapes.txt', sep=\",\")\n",
        "shapes"
      ],
      "execution_count": 8,
      "outputs": [
        {
          "output_type": "execute_result",
          "data": {
            "text/plain": [
              "        shape_id  shape_pt_lat  shape_pt_lon  shape_pt_sequence\n",
              "0              0     28.625198     77.110808                  0\n",
              "1              0     28.625220     77.110815                  1\n",
              "2              0     28.625280     77.110831                  2\n",
              "3              0     28.625483     77.110835                  3\n",
              "4              0     28.625705     77.110839                  4\n",
              "...          ...           ...           ...                ...\n",
              "242239       533     28.618988     77.031115                708\n",
              "242240       533     28.619000     77.031478                709\n",
              "242241       533     28.619005     77.031547                710\n",
              "242242       533     28.618953     77.031561                711\n",
              "242243       533     28.625444     77.066447                712\n",
              "\n",
              "[242244 rows x 4 columns]"
            ],
            "text/html": "<div>\n<style scoped>\n    .dataframe tbody tr th:only-of-type {\n        vertical-align: middle;\n    }\n\n    .dataframe tbody tr th {\n        vertical-align: top;\n    }\n\n    .dataframe thead th {\n        text-align: right;\n    }\n</style>\n<table border=\"1\" class=\"dataframe\">\n  <thead>\n    <tr style=\"text-align: right;\">\n      <th></th>\n      <th>shape_id</th>\n      <th>shape_pt_lat</th>\n      <th>shape_pt_lon</th>\n      <th>shape_pt_sequence</th>\n    </tr>\n  </thead>\n  <tbody>\n    <tr>\n      <th>0</th>\n      <td>0</td>\n      <td>28.625198</td>\n      <td>77.110808</td>\n      <td>0</td>\n    </tr>\n    <tr>\n      <th>1</th>\n      <td>0</td>\n      <td>28.625220</td>\n      <td>77.110815</td>\n      <td>1</td>\n    </tr>\n    <tr>\n      <th>2</th>\n      <td>0</td>\n      <td>28.625280</td>\n      <td>77.110831</td>\n      <td>2</td>\n    </tr>\n    <tr>\n      <th>3</th>\n      <td>0</td>\n      <td>28.625483</td>\n      <td>77.110835</td>\n      <td>3</td>\n    </tr>\n    <tr>\n      <th>4</th>\n      <td>0</td>\n      <td>28.625705</td>\n      <td>77.110839</td>\n      <td>4</td>\n    </tr>\n    <tr>\n      <th>...</th>\n      <td>...</td>\n      <td>...</td>\n      <td>...</td>\n      <td>...</td>\n    </tr>\n    <tr>\n      <th>242239</th>\n      <td>533</td>\n      <td>28.618988</td>\n      <td>77.031115</td>\n      <td>708</td>\n    </tr>\n    <tr>\n      <th>242240</th>\n      <td>533</td>\n      <td>28.619000</td>\n      <td>77.031478</td>\n      <td>709</td>\n    </tr>\n    <tr>\n      <th>242241</th>\n      <td>533</td>\n      <td>28.619005</td>\n      <td>77.031547</td>\n      <td>710</td>\n    </tr>\n    <tr>\n      <th>242242</th>\n      <td>533</td>\n      <td>28.618953</td>\n      <td>77.031561</td>\n      <td>711</td>\n    </tr>\n    <tr>\n      <th>242243</th>\n      <td>533</td>\n      <td>28.625444</td>\n      <td>77.066447</td>\n      <td>712</td>\n    </tr>\n  </tbody>\n</table>\n<p>242244 rows × 4 columns</p>\n</div>"
          },
          "metadata": {},
          "execution_count": 8
        }
      ]
    },
    {
      "cell_type": "code",
      "metadata": {
        "id": "J10-H52v9dq0"
      },
      "source": [
        "route_shape_map = df.merge(shapes,how='inner',on='shape_id')"
      ],
      "execution_count": 9,
      "outputs": []
    },
    {
      "cell_type": "code",
      "metadata": {
        "id": "oWx8ZOpFh5Pm",
        "colab": {
          "base_uri": "https://localhost:8080/",
          "height": 419
        },
        "outputId": "1d144168-9036-42c4-e45b-2ea3b4de3592"
      },
      "source": [
        "route_shape_map.drop_duplicates(inplace=True)\n",
        "route_shape_map"
      ],
      "execution_count": 10,
      "outputs": [
        {
          "output_type": "execute_result",
          "data": {
            "text/plain": [
              "         route_long_name  route_id  shape_id  shape_pt_lat  shape_pt_lon  \\\n",
              "0                108DOWN         0       0.0     28.625198     77.110808   \n",
              "1                108DOWN         0       0.0     28.625220     77.110815   \n",
              "2                108DOWN         0       0.0     28.625280     77.110831   \n",
              "3                108DOWN         0       0.0     28.625483     77.110835   \n",
              "4                108DOWN         0       0.0     28.625705     77.110839   \n",
              "...                  ...       ...       ...           ...           ...   \n",
              "16460992           751UP       533     533.0     28.618988     77.031115   \n",
              "16460993           751UP       533     533.0     28.619000     77.031478   \n",
              "16460994           751UP       533     533.0     28.619005     77.031547   \n",
              "16460995           751UP       533     533.0     28.618953     77.031561   \n",
              "16460996           751UP       533     533.0     28.625444     77.066447   \n",
              "\n",
              "          shape_pt_sequence  \n",
              "0                         0  \n",
              "1                         1  \n",
              "2                         2  \n",
              "3                         3  \n",
              "4                         4  \n",
              "...                     ...  \n",
              "16460992                708  \n",
              "16460993                709  \n",
              "16460994                710  \n",
              "16460995                711  \n",
              "16460996                712  \n",
              "\n",
              "[242244 rows x 6 columns]"
            ],
            "text/html": "<div>\n<style scoped>\n    .dataframe tbody tr th:only-of-type {\n        vertical-align: middle;\n    }\n\n    .dataframe tbody tr th {\n        vertical-align: top;\n    }\n\n    .dataframe thead th {\n        text-align: right;\n    }\n</style>\n<table border=\"1\" class=\"dataframe\">\n  <thead>\n    <tr style=\"text-align: right;\">\n      <th></th>\n      <th>route_long_name</th>\n      <th>route_id</th>\n      <th>shape_id</th>\n      <th>shape_pt_lat</th>\n      <th>shape_pt_lon</th>\n      <th>shape_pt_sequence</th>\n    </tr>\n  </thead>\n  <tbody>\n    <tr>\n      <th>0</th>\n      <td>108DOWN</td>\n      <td>0</td>\n      <td>0.0</td>\n      <td>28.625198</td>\n      <td>77.110808</td>\n      <td>0</td>\n    </tr>\n    <tr>\n      <th>1</th>\n      <td>108DOWN</td>\n      <td>0</td>\n      <td>0.0</td>\n      <td>28.625220</td>\n      <td>77.110815</td>\n      <td>1</td>\n    </tr>\n    <tr>\n      <th>2</th>\n      <td>108DOWN</td>\n      <td>0</td>\n      <td>0.0</td>\n      <td>28.625280</td>\n      <td>77.110831</td>\n      <td>2</td>\n    </tr>\n    <tr>\n      <th>3</th>\n      <td>108DOWN</td>\n      <td>0</td>\n      <td>0.0</td>\n      <td>28.625483</td>\n      <td>77.110835</td>\n      <td>3</td>\n    </tr>\n    <tr>\n      <th>4</th>\n      <td>108DOWN</td>\n      <td>0</td>\n      <td>0.0</td>\n      <td>28.625705</td>\n      <td>77.110839</td>\n      <td>4</td>\n    </tr>\n    <tr>\n      <th>...</th>\n      <td>...</td>\n      <td>...</td>\n      <td>...</td>\n      <td>...</td>\n      <td>...</td>\n      <td>...</td>\n    </tr>\n    <tr>\n      <th>16460992</th>\n      <td>751UP</td>\n      <td>533</td>\n      <td>533.0</td>\n      <td>28.618988</td>\n      <td>77.031115</td>\n      <td>708</td>\n    </tr>\n    <tr>\n      <th>16460993</th>\n      <td>751UP</td>\n      <td>533</td>\n      <td>533.0</td>\n      <td>28.619000</td>\n      <td>77.031478</td>\n      <td>709</td>\n    </tr>\n    <tr>\n      <th>16460994</th>\n      <td>751UP</td>\n      <td>533</td>\n      <td>533.0</td>\n      <td>28.619005</td>\n      <td>77.031547</td>\n      <td>710</td>\n    </tr>\n    <tr>\n      <th>16460995</th>\n      <td>751UP</td>\n      <td>533</td>\n      <td>533.0</td>\n      <td>28.618953</td>\n      <td>77.031561</td>\n      <td>711</td>\n    </tr>\n    <tr>\n      <th>16460996</th>\n      <td>751UP</td>\n      <td>533</td>\n      <td>533.0</td>\n      <td>28.625444</td>\n      <td>77.066447</td>\n      <td>712</td>\n    </tr>\n  </tbody>\n</table>\n<p>242244 rows × 6 columns</p>\n</div>"
          },
          "metadata": {},
          "execution_count": 10
        }
      ]
    },
    {
      "cell_type": "markdown",
      "metadata": {
        "id": "mvaT_XHPG4IN"
      },
      "source": [
        "# Graph creation"
      ]
    },
    {
      "cell_type": "code",
      "metadata": {
        "colab": {
          "base_uri": "https://localhost:8080/"
        },
        "id": "iCSx4FiPIGLo",
        "outputId": "37ae118f-ce30-494f-cfb7-02a27903c2de"
      },
      "source": [
        "x = route_shape_map.groupby(['shape_pt_lat','shape_pt_lon']).size()\n",
        "x"
      ],
      "execution_count": 11,
      "outputs": [
        {
          "output_type": "execute_result",
          "data": {
            "text/plain": [
              "shape_pt_lat  shape_pt_lon\n",
              "28.490695     77.304077        1\n",
              "28.490785     77.303741       10\n",
              "28.490846     77.304046        6\n",
              "28.491244     77.303870       11\n",
              "28.491317     77.304038        2\n",
              "                              ..\n",
              "28.858176     77.093328        1\n",
              "              77.093332        1\n",
              "              77.093337        1\n",
              "              77.093342        1\n",
              "              77.093347        1\n",
              "Length: 45848, dtype: int64"
            ]
          },
          "metadata": {},
          "execution_count": 11
        }
      ]
    },
    {
      "cell_type": "code",
      "metadata": {
        "id": "4Rscv7uoKRBJ"
      },
      "source": [
        "# graph = {}"
      ],
      "execution_count": 12,
      "outputs": []
    },
    {
      "cell_type": "code",
      "metadata": {
        "id": "QQBF6sAR0tpI"
      },
      "source": [
        "# for index,row in route_shape_map.iterrows():\n",
        "#   x = row.to_dict()\n",
        "#   gps = (x['shape_pt_lat'],x['shape_pt_lon'])\n",
        "#   if gps in graph:\n",
        "#     temp = x['route_id']\n",
        "#     if temp not in graph[gps]['route']:\n",
        "#       graph[gps]['route'].append(temp)\n",
        "  \n",
        "#   else:\n",
        "#     graph[gps]={}\n",
        "#     graph[gps]['route']=[]\n",
        "#     graph[gps]['route'].append(x['route_id'])\n",
        "\n",
        "# graph"
      ],
      "execution_count": 13,
      "outputs": []
    },
    {
      "cell_type": "code",
      "metadata": {
        "id": "qN6VEOGEgAO9",
        "colab": {
          "base_uri": "https://localhost:8080/"
        },
        "outputId": "a58c6b2c-b474-4fe0-a7b8-54ca1c8dc24f"
      },
      "source": [
        "# %%time\n",
        "# for key in graph:\n",
        "#   graph[key]['neg'] = []\n",
        "#   h=route_shape_map[(route_shape_map['shape_pt_lat']==key[0]) & (route_shape_map['shape_pt_lon']==key[1])]\n",
        "#   for index,row in h.iterrows():\n",
        "#     x = row.to_dict()\n",
        "#     temp = route_shape_map[(route_shape_map['route_id']==x['route_id']) & (route_shape_map['shape_pt_sequence']==x['shape_pt_sequence']+1)]\n",
        "#     records = temp[['shape_pt_lat','shape_pt_lon']].to_records(index=False)\n",
        "#     result = list(set(list(records)))\n",
        "#     graph[key]['neg'].extend(result)"
      ],
      "execution_count": 14,
      "outputs": []
    },
    {
      "cell_type": "code",
      "metadata": {
        "id": "VxLg5b9m5Z_n"
      },
      "source": [
        "# %%time\n",
        "# for i, key in enumerate(graph):\n",
        "#     if i%1000 == 0:\n",
        "#         print(f'{i}/{len(graph)}')\n",
        "#     graph[key]['neg'] = []\n",
        "#     h = route_shape_map[(route_shape_map['shape_pt_lat']==key[0]) & (route_shape_map['shape_pt_lon']==key[1])].values.tolist()\n",
        "#     h2 = route_shape_map[route_shape_map['route_id'].isin(graph[key]['route'])]\n",
        "#     for row in h:\n",
        "#         temp = h2[(h2['route_id']==row[1]) & (h2['shape_pt_sequence']==row[-1]+1)]\n",
        "#         records = temp[['shape_pt_lat','shape_pt_lon']].to_records(index=False)\n",
        "#         result = list(records)\n",
        "#         graph[key]['neg'].extend(result)\n",
        "# for key in graph:\n",
        "#   graph[key]['neg'] = list(set([tuple(i) for i in graph[key]['neg']]))\n",
        "# graph"
      ],
      "execution_count": 15,
      "outputs": []
    },
    {
      "cell_type": "code",
      "metadata": {
        "id": "IsMIs4_wDczn"
      },
      "source": [
        "# with open('graph.pkl','wb') as f:\n",
        "#   pickle.dump(graph,f)"
      ],
      "execution_count": 16,
      "outputs": []
    },
    {
      "cell_type": "code",
      "metadata": {
        "colab": {
          "base_uri": "https://localhost:8080/"
        },
        "id": "lRO2hRYmDt-L",
        "outputId": "73ac64a9-fcf2-4a30-ec67-e278f4bfbdac"
      },
      "source": [
        "with open('graph.pkl','rb') as f:\n",
        "  graph = pickle.load(f)"
      ],
      "execution_count": 21,
      "outputs": []
    },
    {
      "cell_type": "code",
      "execution_count": 24,
      "metadata": {},
      "outputs": [
        {
          "output_type": "stream",
          "name": "stdout",
          "text": [
            "{'route': [0, 466, 532], 'neg': [(28.625220000000002, 77.110815)]}\n"
          ]
        }
      ],
      "source": [
        "for key in graph:\n",
        "    print(graph[key])\n",
        "    break"
      ]
    },
    {
      "cell_type": "markdown",
      "metadata": {
        "id": "nRUFvv_QzTC9"
      },
      "source": [
        "##Trie\n"
      ]
    },
    {
      "cell_type": "code",
      "metadata": {
        "colab": {
          "base_uri": "https://localhost:8080/"
        },
        "id": "8jj4cKfJmJWO",
        "outputId": "9a54ca7d-4880-412e-d103-7a05a7c2a7b1"
      },
      "source": [
        "class TrieNode:\n",
        "    Node_size = len(graph) \n",
        "    def __init__(self, loc=None, startRoutes=None, endRoutes=None, neighbours=None):\n",
        "        self.loc = loc\n",
        "        self.neighbours = neighbours\n",
        "        self.startRoutes = startRoutes\n",
        "        self.endRoutes = endRoutes\n",
        "\n",
        "class Trie:\n",
        "    def __init__(self):\n",
        "        self.root = TrieNode()\n",
        "    \n",
        "    def charToIndex(self, ch):\n",
        "        return ord(ch) - ord('a')\n",
        "\n",
        "    def add(self, ):\n",
        "        pCrawl = self.root\n",
        "        length = len(word)\n",
        "        for level in range(length):\n",
        "            index = self.charToIndex(word[level])\n",
        "            if not pCrawl.children[index]:\n",
        "                pCrawl.children[index] = TrieNode()\n",
        "            pCrawl = pCrawl.children[index]\n",
        "        pCrawl.endOfWord = True\n",
        "    \n",
        "    def search(self, word):\n",
        "        pCrawl = self.root\n",
        "        length = len(word)\n",
        "        for level in range(length):\n",
        "            index = self.charToIndex(word[level])\n",
        "            if not pCrawl.children[index]:\n",
        "                return False\n",
        "            pCrawl = pCrawl.children[index]\n",
        "        return pCrawl.endOfWord\n",
        "\n",
        "\n",
        "trie = Trie()\n",
        "words = [\"example\", \"extempore\", \"exterminate\"]\n",
        "for word in words:\n",
        "    trie.add(word)\n",
        "print(trie.search(\"extempore\"))\n",
        "print(trie.search(\"exterm\"))"
      ],
      "execution_count": null,
      "outputs": []
    },
    {
      "cell_type": "markdown",
      "metadata": {
        "id": "XepHTL6MEdCS"
      },
      "source": [
        "#Check\n"
      ]
    },
    {
      "cell_type": "code",
      "metadata": {
        "id": "ebIYiE_tfG_v"
      },
      "source": [
        "def put(feed,lat,lon):\n",
        "  # print(feed.entity)\n",
        "  for entity in feed.entity:\n",
        "    if entity.id==\"DL1PC6641\":\n",
        "      lat.append(entity.vehicle.position.latitude)\n",
        "      lon.append(entity.vehicle.position.longitude)\n",
        "      break"
      ],
      "execution_count": null,
      "outputs": []
    },
    {
      "cell_type": "code",
      "metadata": {
        "id": "_jPuwASFy6k0"
      },
      "source": [
        "feed = gtfs_realtime_pb2.FeedMessage()\n",
        "response = urllib.request.urlopen('https://opendata.iiitd.edu.in/api/realtime/VehiclePositions.pb?key=5kOKha1VJqxWvkkIp1J71Yrb5mc3VsDS')\n",
        "feed.ParseFromString(response.read())\n",
        "print(feed.entity)"
      ],
      "execution_count": null,
      "outputs": []
    },
    {
      "cell_type": "code",
      "metadata": {
        "id": "i1Y1k3xbaN7I"
      },
      "source": [
        "feed = gtfs_realtime_pb2.FeedMessage()\n",
        "lat=[]\n",
        "lon=[]\n",
        "for i in range(100):\n",
        "  response = urllib.request.urlopen('https://opendata.iiitd.edu.in/api/realtime/VehiclePositions.pb?key=5kOKha1VJqxWvkkIp1J71Yrb5mc3VsDS')\n",
        "  feed.ParseFromString(response.read())\n",
        "  put(feed,lat,lon)\n",
        "  time.sleep(10)"
      ],
      "execution_count": null,
      "outputs": []
    },
    {
      "cell_type": "code",
      "metadata": {
        "id": "LItuZGkXSAw4"
      },
      "source": [
        "lat"
      ],
      "execution_count": null,
      "outputs": []
    },
    {
      "cell_type": "code",
      "metadata": {
        "colab": {
          "base_uri": "https://localhost:8080/",
          "height": 285
        },
        "id": "RNIAIT88PKlt",
        "outputId": "00f8a9b5-53e6-4d66-d80e-f52ffa67d9c9"
      },
      "source": [
        "fig =plt.figure()\n",
        "plt.plot(lon,lat,linewidth=3)\n",
        "mp.display(fig=fig)"
      ],
      "execution_count": null,
      "outputs": [
        {
          "output_type": "execute_result",
          "data": {
            "text/html": [
              "<iframe src=\"data:text/html;base64,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\" width=\"100%\" height=\"240\"></iframe>"
            ],
            "text/plain": [
              "<IPython.core.display.HTML object>"
            ]
          },
          "metadata": {
            "tags": []
          },
          "execution_count": 9
        }
      ]
    },
    {
      "cell_type": "code",
      "metadata": {
        "id": "OudHL7aOmKhh"
      },
      "source": [],
      "execution_count": null,
      "outputs": []
    }
  ]
}